{
 "cells": [
  {
   "cell_type": "code",
   "execution_count": 8,
   "metadata": {},
   "outputs": [
    {
     "name": "stdout",
     "output_type": "stream",
     "text": [
      "('w', 'o', 'r', 'd')\n",
      "('w', 'o', 'd', 'r')\n",
      "('w', 'r', 'o', 'd')\n",
      "('w', 'r', 'd', 'o')\n",
      "('w', 'd', 'o', 'r')\n",
      "('w', 'd', 'r', 'o')\n",
      "('o', 'w', 'r', 'd')\n",
      "('o', 'w', 'd', 'r')\n",
      "('o', 'r', 'w', 'd')\n",
      "('o', 'r', 'd', 'w')\n",
      "('o', 'd', 'w', 'r')\n",
      "('o', 'd', 'r', 'w')\n",
      "('r', 'w', 'o', 'd')\n",
      "('r', 'w', 'd', 'o')\n",
      "('r', 'o', 'w', 'd')\n",
      "('r', 'o', 'd', 'w')\n",
      "('r', 'd', 'w', 'o')\n",
      "('r', 'd', 'o', 'w')\n",
      "('d', 'w', 'o', 'r')\n",
      "('d', 'w', 'r', 'o')\n",
      "('d', 'o', 'w', 'r')\n",
      "('d', 'o', 'r', 'w')\n",
      "('d', 'r', 'w', 'o')\n",
      "('d', 'r', 'o', 'w')\n"
     ]
    }
   ],
   "source": [
    "from random import sample\n",
    "from math import factorial\n",
    "from itertools import permutations\n",
    "\n",
    "word=\"word\"\n",
    "for p in permutations(word):\n",
    "    print(p)"
   ]
  },
  {
   "cell_type": "code",
   "execution_count": 14,
   "metadata": {},
   "outputs": [
    {
     "name": "stdout",
     "output_type": "stream",
     "text": [
      "1.Numarul permutarilor:  24\n",
      "2.Numarul permutarilor:  24\n"
     ]
    }
   ],
   "source": [
    "from random import sample\n",
    "from math import factorial\n",
    "from itertools import permutations\n",
    "\n",
    "prm=list(permutations(\"word\"))\n",
    "print(\"1.Numarul permutarilor: \", len(prm))\n",
    "\n",
    "# sau\n",
    "word=\"word\"\n",
    "print(\"2.Numarul permutarilor: \", factorial(len(word)))\n"
   ]
  },
  {
   "cell_type": "code",
   "execution_count": 2,
   "metadata": {},
   "outputs": [
    {
     "name": "stdout",
     "output_type": "stream",
     "text": [
      "['w', 'o', 'd', 'r']\n"
     ]
    }
   ],
   "source": [
    "from random import sample\n",
    "from math import factorial\n",
    "from itertools import permutations\n",
    "\n",
    "#prm=list(permutations(\"word\"))\n",
    "#print(sample(prm,1))\n",
    "print(sample(\"word\", 4))\n"
   ]
  },
  {
   "cell_type": "code",
   "execution_count": 34,
   "metadata": {},
   "outputs": [
    {
     "name": "stdout",
     "output_type": "stream",
     "text": [
      "Numarul de aranjamente:  12\n"
     ]
    }
   ],
   "source": [
    "from random import sample\n",
    "from math import perm, comb\n",
    "from itertools import permutations, combinations\n",
    "\n",
    "def numarAranjamente(cuvant, k):\n",
    "    return perm(len(cuvant), k)\n",
    "\n",
    "print(\"Numarul de aranjamente:\", numarAranjamente(\"word\", 2))\n"
   ]
  },
  {
   "cell_type": "code",
   "execution_count": 55,
   "metadata": {},
   "outputs": [
    {
     "data": {
      "text/plain": [
       "[('w', 'o', 'r'),\n",
       " ('w', 'o', 'd'),\n",
       " ('w', 'r', 'o'),\n",
       " ('w', 'r', 'd'),\n",
       " ('w', 'd', 'o'),\n",
       " ('w', 'd', 'r'),\n",
       " ('o', 'w', 'r'),\n",
       " ('o', 'w', 'd'),\n",
       " ('o', 'r', 'w'),\n",
       " ('o', 'r', 'd'),\n",
       " ('o', 'd', 'w'),\n",
       " ('o', 'd', 'r'),\n",
       " ('r', 'w', 'o'),\n",
       " ('r', 'w', 'd'),\n",
       " ('r', 'o', 'w'),\n",
       " ('r', 'o', 'd'),\n",
       " ('r', 'd', 'w'),\n",
       " ('r', 'd', 'o'),\n",
       " ('d', 'w', 'o'),\n",
       " ('d', 'w', 'r'),\n",
       " ('d', 'o', 'w'),\n",
       " ('d', 'o', 'r'),\n",
       " ('d', 'r', 'w'),\n",
       " ('d', 'r', 'o')]"
      ]
     },
     "execution_count": 55,
     "metadata": {},
     "output_type": "execute_result"
    }
   ],
   "source": [
    "from random import sample\n",
    "from math import perm, comb\n",
    "from itertools import permutations, combinations\n",
    "\n",
    "def aranjamente(cuvant, k):\n",
    "    return list(permutations(cuvant, k))\n",
    "\n",
    "aranjamente(\"word\", 3)"
   ]
  },
  {
   "cell_type": "code",
   "execution_count": 37,
   "metadata": {},
   "outputs": [
    {
     "data": {
      "text/plain": [
       "['o', 'r']"
      ]
     },
     "execution_count": 37,
     "metadata": {},
     "output_type": "execute_result"
    }
   ],
   "source": [
    "from random import sample\n",
    "from math import perm, comb\n",
    "from itertools import permutations, combinations\n",
    "\n",
    "def aleatorAranjamente(cuvant, k):\n",
    "    return sample(cuvant, k)\n",
    "\n",
    "aleatorAranjamente(\"word\", 2)"
   ]
  },
  {
   "cell_type": "code",
   "execution_count": 54,
   "metadata": {},
   "outputs": [
    {
     "data": {
      "text/plain": [
       "[('w', 'o', 'r'), ('w', 'o', 'd'), ('w', 'r', 'd'), ('o', 'r', 'd')]"
      ]
     },
     "execution_count": 54,
     "metadata": {},
     "output_type": "execute_result"
    }
   ],
   "source": [
    "from random import sample\n",
    "from math import perm, comb\n",
    "from itertools import permutations, combinations\n",
    "\n",
    "def combinari(cuvant, k):\n",
    "    return list(combinations(cuvant, k))\n",
    "\n",
    "combinari(\"word\", 3)"
   ]
  },
  {
   "cell_type": "code",
   "execution_count": 3,
   "metadata": {},
   "outputs": [
    {
     "name": "stdout",
     "output_type": "stream",
     "text": [
      "Numar de combinari: 4\n"
     ]
    }
   ],
   "source": [
    "from random import sample\n",
    "from math import perm, comb\n",
    "from itertools import permutations, combinations\n",
    "\n",
    "def numarCombinari(cuvant, k):\n",
    "    return comb(cuvant, k)\n",
    "\n",
    "print(\"Numar de combinari:\", numarCombinari(len(\"word\"), 3))"
   ]
  },
  {
   "cell_type": "code",
   "execution_count": 9,
   "metadata": {},
   "outputs": [
    {
     "name": "stdout",
     "output_type": "stream",
     "text": [
      "[2, 3]\n"
     ]
    },
    {
     "data": {
      "text/plain": [
       "['r', 'd']"
      ]
     },
     "execution_count": 9,
     "metadata": {},
     "output_type": "execute_result"
    }
   ],
   "source": [
    "from random import sample\n",
    "from math import perm, comb\n",
    "from itertools import permutations, combinations\n",
    "\n",
    "def aleatorCombinari(cuvant, k):\n",
    "    # sortam pozitiile\n",
    "    pozitii = sorted(sample(range(len(cuvant)), k))\n",
    "    print(pozitii)\n",
    "    return [cuvant[i] for i in pozitii]    \n",
    "\n",
    "aleatorCombinari(\"word\", 2)"
   ]
  }
 ],
 "metadata": {
  "kernelspec": {
   "display_name": "Python 3",
   "language": "python",
   "name": "python3"
  },
  "language_info": {
   "codemirror_mode": {
    "name": "ipython",
    "version": 3
   },
   "file_extension": ".py",
   "mimetype": "text/x-python",
   "name": "python",
   "nbconvert_exporter": "python",
   "pygments_lexer": "ipython3",
   "version": "3.10.11"
  }
 },
 "nbformat": 4,
 "nbformat_minor": 2
}
